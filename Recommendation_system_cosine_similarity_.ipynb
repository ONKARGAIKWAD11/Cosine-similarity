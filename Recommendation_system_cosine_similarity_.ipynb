{
  "nbformat": 4,
  "nbformat_minor": 0,
  "metadata": {
    "colab": {
      "provenance": [],
      "authorship_tag": "ABX9TyM/TwfLVwxup0JSg0J7IhZa",
      "include_colab_link": true
    },
    "kernelspec": {
      "name": "python3",
      "display_name": "Python 3"
    },
    "language_info": {
      "name": "python"
    }
  },
  "cells": [
    {
      "cell_type": "markdown",
      "metadata": {
        "id": "view-in-github",
        "colab_type": "text"
      },
      "source": [
        "<a href=\"https://colab.research.google.com/github/ONKARGAIKWAD11/Cosine-similarity/blob/main/Recommendation_system_cosine_similarity_.ipynb\" target=\"_parent\"><img src=\"https://colab.research.google.com/assets/colab-badge.svg\" alt=\"Open In Colab\"/></a>"
      ]
    },
    {
      "cell_type": "code",
      "execution_count": 1,
      "metadata": {
        "colab": {
          "base_uri": "https://localhost:8080/"
        },
        "id": "tswVBnnga_7t",
        "outputId": "a2c7f888-1f9a-47ed-d5c4-9ae048f647ba"
      },
      "outputs": [
        {
          "output_type": "stream",
          "name": "stdout",
          "text": [
            "Fixed Array 1: [   0    0    0    0    1    0    0    0    1    0    1    1 4500 7500]\n",
            "Array 1: 99.99684413165969\n",
            "Array 2: 97.4341649025257\n",
            "Array 3: 48.80935300919764\n",
            "\n",
            "Fixed Array 2: [   0    0    0    0    2    0    0    0    2    0    1    1 2000 6000]\n",
            "Array 1: 96.11857384234689\n",
            "Array 2: 98.80935300919765\n",
            "Array 3: 49.99999999999999\n",
            "\n"
          ]
        }
      ],
      "source": [
        "\n",
        "\n",
        "import numpy as np\n",
        "from sklearn.metrics.pairwise import cosine_similarity\n",
        "\n",
        "def calculate_similarity(fixed_arrays, second_array):\n",
        "    similarity_percentages = []\n",
        "\n",
        "    for fixed_array in fixed_arrays:\n",
        "        similarities = []\n",
        "\n",
        "        for arr in second_array:\n",
        "            similarity = cosine_similarity([fixed_array], [arr])[0][0]\n",
        "            similarity_percentage = similarity * 100\n",
        "            similarities.append(similarity_percentage)\n",
        "\n",
        "        similarity_percentages.append(similarities)\n",
        "\n",
        "    return similarity_percentages\n",
        "\n",
        "#FIXED ARRAY AS CUSTOMER TRANSACTION \n",
        "fixed_arrays  = np.array([[0,0,0,0,1,0,0,0,1,0,1,1,4500,7500],\n",
        "                          \n",
        "                          [0,0,0,0,2,0,0,0,2,0,1,1,2000,6000]])\n",
        "\n",
        "\n",
        "\n",
        "\n",
        "#SECOND ARRAT AS ALERTS \n",
        "second_array = np.array([[0,0,0,0,1,0,0,0,1,0,1,1,4000,6500],\n",
        "                         \n",
        "                         [0,0,0,0,2,0,0,0,2,0,1,1,4500,7500],\n",
        "                         \n",
        "                         [2,0,0,0,0,0,0,0,0,0,0,0,2000,6000]])\n",
        "\n",
        "\n",
        "\n",
        "\n",
        "first_fixed_all_numbers = fixed_arrays[:, :12]\n",
        "last_fixed_two_numbers = fixed_arrays[:, -2:]\n",
        "second_array_all_numbers = second_array[:, :12]\n",
        "second_array_last_two_numbers = second_array[:, -2:]\n",
        "\n",
        "# Calculate similarity\n",
        "A = calculate_similarity(first_fixed_all_numbers, second_array_all_numbers)\n",
        "B = calculate_similarity(last_fixed_two_numbers, second_array_last_two_numbers)\n",
        "similarity_percentages = [[(a + b) / 2 for a, b in zip(arr_a, arr_b)] for arr_a, arr_b in zip(A, B)]\n",
        "\n",
        "# Display results\n",
        "for i, fixed_array in enumerate(fixed_arrays):\n",
        "    print(f\"Fixed Array {i+1}: {fixed_array}\")\n",
        "    for j, similarity in enumerate(similarity_percentages[i]):\n",
        "        print(f\"Array {j+1}: {similarity}\")\n",
        "    print()"
      ]
    },
    {
      "cell_type": "code",
      "source": [],
      "metadata": {
        "id": "jepZsrqVbKU1"
      },
      "execution_count": null,
      "outputs": []
    }
  ]
}